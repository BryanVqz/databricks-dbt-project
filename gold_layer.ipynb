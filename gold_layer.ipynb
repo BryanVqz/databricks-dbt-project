{
 "cells": [
  {
   "cell_type": "code",
   "execution_count": 0,
   "metadata": {
    "application/vnd.databricks.v1+cell": {
     "cellMetadata": {
      "byteLimit": 2048000,
      "rowLimit": 10000
     },
     "inputWidgets": {},
     "nuid": "4c4ee187-9b1a-4a24-8a1f-df31f4bd79a4",
     "showTitle": false,
     "tableResultSettingsMap": {},
     "title": ""
    }
   },
   "outputs": [],
   "source": [
    "from pyspark.sql.functions import *\n",
    "from pyspark.sql.types import *\n",
    "from delta.tables import DeltaTable"
   ]
  },
  {
   "cell_type": "code",
   "execution_count": 0,
   "metadata": {
    "application/vnd.databricks.v1+cell": {
     "cellMetadata": {
      "byteLimit": 2048000,
      "implicitDf": true,
      "rowLimit": 10000
     },
     "inputWidgets": {},
     "nuid": "f4b01fee-bc63-46ec-9053-d99689f41840",
     "showTitle": false,
     "tableResultSettingsMap": {},
     "title": ""
    }
   },
   "outputs": [],
   "source": [
    "%sql\n",
    "SELECT * FROM workspace_bryanq.silver.silver_flights"
   ]
  },
  {
   "cell_type": "markdown",
   "metadata": {
    "application/vnd.databricks.v1+cell": {
     "cellMetadata": {
      "byteLimit": 2048000,
      "rowLimit": 10000
     },
     "inputWidgets": {},
     "nuid": "5e04dccd-5289-440d-8a78-1f5d5c363c02",
     "showTitle": false,
     "tableResultSettingsMap": {},
     "title": ""
    }
   },
   "source": [
    "## **INCREMENTAL DATA INGESTION**"
   ]
  },
  {
   "cell_type": "markdown",
   "metadata": {
    "application/vnd.databricks.v1+cell": {
     "cellMetadata": {
      "byteLimit": 2048000,
      "rowLimit": 10000
     },
     "inputWidgets": {},
     "nuid": "bcb3f701-eed9-4b8e-9a38-e0f7f6b6d4a5",
     "showTitle": false,
     "tableResultSettingsMap": {},
     "title": ""
    }
   },
   "source": [
    "### **Incremental Variables**"
   ]
  },
  {
   "cell_type": "code",
   "execution_count": 0,
   "metadata": {
    "application/vnd.databricks.v1+cell": {
     "cellMetadata": {
      "byteLimit": 2048000,
      "rowLimit": 10000
     },
     "inputWidgets": {},
     "nuid": "82054157-e3fc-47c1-9f7b-3df6ead23410",
     "showTitle": false,
     "tableResultSettingsMap": {},
     "title": ""
    }
   },
   "outputs": [],
   "source": [
    "file_name = \"flights\".capitalize()\n",
    "print(file_name)"
   ]
  },
  {
   "cell_type": "code",
   "execution_count": 0,
   "metadata": {
    "application/vnd.databricks.v1+cell": {
     "cellMetadata": {
      "byteLimit": 2048000,
      "rowLimit": 10000
     },
     "inputWidgets": {},
     "nuid": "e138350b-22ea-4aa6-9803-33cb1945686f",
     "showTitle": false,
     "tableResultSettingsMap": {},
     "title": ""
    }
   },
   "outputs": [],
   "source": [
    "# Key Col List\n",
    "key_col = \"['flight_id']\"\n",
    "key_col_list = eval(key_col)\n",
    "\n",
    "# CDC Column\n",
    "cdc_col = \"modifiedDate\"\n",
    "\n",
    "# Backdated Refresh\n",
    "backdated_refresh = \"\"\n",
    "\n",
    "# Surrogate Key\n",
    "surrogate_key = \"DimFlighstKey\"\n",
    "\n",
    "# Catalog\n",
    "catalog_name = \"workspace_bryanq\"\n",
    "\n",
    "# Source Object\n",
    "source_object = \"silver_flights\"\n",
    "\n",
    "# Source Schema\n",
    "source_schema = \"silver\"\n",
    "\n",
    "# Target Object\n",
    "target_object = \"flights\"\n",
    "\n",
    "# Target Schema\n",
    "target_schema = \"gold\""
   ]
  },
  {
   "cell_type": "markdown",
   "metadata": {
    "application/vnd.databricks.v1+cell": {
     "cellMetadata": {
      "byteLimit": 2048000,
      "rowLimit": 10000
     },
     "inputWidgets": {},
     "nuid": "d31860be-50a7-40d4-9946-474dfaa4539c",
     "showTitle": false,
     "tableResultSettingsMap": {},
     "title": ""
    }
   },
   "source": [
    "### **Last Load Date**"
   ]
  },
  {
   "cell_type": "code",
   "execution_count": 0,
   "metadata": {
    "application/vnd.databricks.v1+cell": {
     "cellMetadata": {
      "byteLimit": 2048000,
      "rowLimit": 10000
     },
     "inputWidgets": {},
     "nuid": "45a5ae1c-ebb7-4ddb-bae0-f9f47702240e",
     "showTitle": false,
     "tableResultSettingsMap": {},
     "title": ""
    }
   },
   "outputs": [],
   "source": [
    "if len(backdated_refresh) == 0:\n",
    "\n",
    "  if spark.catalog.tableExists(f\"{catalog_name}.{target_schema}.{target_object}\"):\n",
    "     \n",
    "    last_load = spark.sql(f\"SELECT MAX({cdc_col}) FROM {catalog_name}.{target_schema}.{target_object}\")\\\n",
    "                    .collect()[0][0]\n",
    "  \n",
    "  else:\n",
    "    \n",
    "    last_load = \"1900-01-01 00:00:00\"\n",
    "\n",
    "else:\n",
    "\n",
    "  last_load = backdated_refresh\n",
    "\n",
    "last_load"
   ]
  },
  {
   "cell_type": "code",
   "execution_count": 0,
   "metadata": {
    "application/vnd.databricks.v1+cell": {
     "cellMetadata": {
      "byteLimit": 2048000,
      "rowLimit": 10000
     },
     "inputWidgets": {},
     "nuid": "31437645-f233-4afe-a5d1-48c268725c19",
     "showTitle": false,
     "tableResultSettingsMap": {},
     "title": ""
    }
   },
   "outputs": [],
   "source": [
    "df_source = spark.sql(f\"SELECT * FROM {catalog_name}.{source_schema}.{source_object} WHERE {cdc_col} > '{last_load}' \")\n",
    "\n",
    "df_source.display()"
   ]
  },
  {
   "cell_type": "markdown",
   "metadata": {
    "application/vnd.databricks.v1+cell": {
     "cellMetadata": {
      "byteLimit": 2048000,
      "rowLimit": 10000
     },
     "inputWidgets": {},
     "nuid": "0fe78ac1-5043-4c84-b686-0f0162f0553e",
     "showTitle": false,
     "tableResultSettingsMap": {},
     "title": ""
    }
   },
   "source": [
    "### New Records vs Old Records"
   ]
  },
  {
   "cell_type": "code",
   "execution_count": 0,
   "metadata": {
    "application/vnd.databricks.v1+cell": {
     "cellMetadata": {
      "byteLimit": 2048000,
      "rowLimit": 10000
     },
     "inputWidgets": {},
     "nuid": "422b42f5-e651-4393-be07-beac8671ace5",
     "showTitle": false,
     "tableResultSettingsMap": {},
     "title": ""
    }
   },
   "outputs": [],
   "source": [
    "if spark.catalog.tableExists(f\"{catalog_name}.{target_schema}.{target_object}\"):\n",
    "  # incremental load\n",
    "  key_col_string = (', ').join(key_col_list)\n",
    "\n",
    "  # if table exists, bring records to compare\n",
    "  df_target = spark.sql(f\"SELECT {key_col_string}, {surrogate_key}, create_date, update_date FROM {catalog_name}.{target_schema}.{target_object}\")\n",
    "\n",
    "else:\n",
    "  # initial load - list comprehension\n",
    "  key_col_list_init =  [f\"'' AS {i}\" for i in key_col_list]\n",
    "  key_col_list_init = ', '.join(key_col_list_init)\n",
    "\n",
    "  # if table doesn't exist, create empty dataframe\n",
    "  df_target = spark.sql(f\"SELECT {key_col_list_init}, CAST('0' AS INT) AS {surrogate_key}, CAST('1900-01-01 00:00:00' AS TIMESTAMP) AS create_date, CAST('1900-01-01 00:00:00' AS TIMESTAMP) AS update_date WHERE 1 = 0\")"
   ]
  },
  {
   "cell_type": "code",
   "execution_count": 0,
   "metadata": {
    "application/vnd.databricks.v1+cell": {
     "cellMetadata": {
      "byteLimit": 2048000,
      "rowLimit": 10000
     },
     "inputWidgets": {},
     "nuid": "17178d54-205c-4432-8c54-12dc00ccbf6f",
     "showTitle": false,
     "tableResultSettingsMap": {
      "0": {
       "dataGridStateBlob": "{\"version\":1,\"tableState\":{\"columnPinning\":{\"left\":[\"#row_number#\"],\"right\":[]},\"columnSizing\":{},\"columnVisibility\":{}},\"settings\":{\"columns\":{}},\"syncTimestamp\":1752083036801}",
       "filterBlob": null,
       "queryPlanFiltersBlob": null,
       "tableResultIndex": 0
      }
     },
     "title": ""
    }
   },
   "outputs": [],
   "source": [
    "df_target.display()"
   ]
  },
  {
   "cell_type": "markdown",
   "metadata": {
    "application/vnd.databricks.v1+cell": {
     "cellMetadata": {
      "byteLimit": 2048000,
      "rowLimit": 10000
     },
     "inputWidgets": {},
     "nuid": "8ca843e8-f1ee-402c-b004-1bc4e2043f35",
     "showTitle": false,
     "tableResultSettingsMap": {},
     "title": ""
    }
   },
   "source": [
    "### **Joining df_target with df_source**"
   ]
  },
  {
   "cell_type": "code",
   "execution_count": 0,
   "metadata": {
    "application/vnd.databricks.v1+cell": {
     "cellMetadata": {
      "byteLimit": 2048000,
      "rowLimit": 10000
     },
     "inputWidgets": {},
     "nuid": "99195f2d-43fa-455c-aeb7-bbbe30c7fe03",
     "showTitle": false,
     "tableResultSettingsMap": {},
     "title": ""
    }
   },
   "outputs": [],
   "source": [
    "join_condition = ' AND '.join([f\"source.{i} = target.{i}\" for i in key_col_list])\n",
    "join_condition"
   ]
  },
  {
   "cell_type": "code",
   "execution_count": 0,
   "metadata": {
    "application/vnd.databricks.v1+cell": {
     "cellMetadata": {
      "byteLimit": 2048000,
      "rowLimit": 10000
     },
     "inputWidgets": {},
     "nuid": "f1d1610e-3db2-422d-bb2d-2762db848279",
     "showTitle": false,
     "tableResultSettingsMap": {},
     "title": ""
    }
   },
   "outputs": [],
   "source": [
    "df_source.createOrReplaceTempView(\"source\")\n",
    "df_target.createOrReplaceTempView(\"target\")\n",
    "\n",
    "join_condition = ' AND '.join([f\"source.{i} = target.{i}\" for i in key_col_list])\n",
    "\n",
    "df_join = spark.sql(f\"\"\"\n",
    "          SELECT \n",
    "            source.*\n",
    "            ,target.{surrogate_key}\n",
    "            ,target.create_date\n",
    "            ,target.update_date\n",
    "          FROM source\n",
    "          LEFT JOIN target\n",
    "          ON {join_condition}\n",
    "          \"\"\")"
   ]
  },
  {
   "cell_type": "code",
   "execution_count": 0,
   "metadata": {
    "application/vnd.databricks.v1+cell": {
     "cellMetadata": {
      "byteLimit": 2048000,
      "rowLimit": 10000
     },
     "inputWidgets": {},
     "nuid": "8017f9fd-1f4a-4b40-a9db-2729c59a0c75",
     "showTitle": false,
     "tableResultSettingsMap": {},
     "title": ""
    }
   },
   "outputs": [],
   "source": [
    "df_join.display()"
   ]
  },
  {
   "cell_type": "code",
   "execution_count": 0,
   "metadata": {
    "application/vnd.databricks.v1+cell": {
     "cellMetadata": {
      "byteLimit": 2048000,
      "rowLimit": 10000
     },
     "inputWidgets": {},
     "nuid": "fd8cf7f9-b5c8-498e-b508-eaf6e3c74bc3",
     "showTitle": false,
     "tableResultSettingsMap": {},
     "title": ""
    }
   },
   "outputs": [],
   "source": [
    "df_old = df_join.filter(col(f'{surrogate_key}').isNotNull())\n",
    "df_new = df_join.filter(col(f'{surrogate_key}').isNull())\n",
    "\n",
    "df_old.display()\n",
    "df_new.display()"
   ]
  },
  {
   "cell_type": "markdown",
   "metadata": {
    "application/vnd.databricks.v1+cell": {
     "cellMetadata": {
      "byteLimit": 2048000,
      "rowLimit": 10000
     },
     "inputWidgets": {},
     "nuid": "b32f5f0d-85a9-4572-bde5-371113974311",
     "showTitle": false,
     "tableResultSettingsMap": {},
     "title": ""
    }
   },
   "source": [
    "### **Setting Surrogate key**"
   ]
  },
  {
   "cell_type": "code",
   "execution_count": 0,
   "metadata": {
    "application/vnd.databricks.v1+cell": {
     "cellMetadata": {
      "byteLimit": 2048000,
      "rowLimit": 10000
     },
     "inputWidgets": {},
     "nuid": "84e7e3a3-3e99-4dbf-b3e7-e605827bb741",
     "showTitle": false,
     "tableResultSettingsMap": {},
     "title": ""
    }
   },
   "outputs": [],
   "source": [
    "if spark.catalog.tableExists(f\"{catalog_name}.{target_schema}.{target_object}\"):\n",
    "  max_surrogate_key = spark.sql(f\"\"\"\n",
    "                                SELECT MAX({surrogate_key}) FROM {catalog_name}.{target_schema}.{target_object}\n",
    "                                \"\"\").collect()[0][0]\n",
    "  \n",
    "  df_new = df_new.withColumn(f\"{surrogate_key}\", monotonically_increasing_id() + max_surrogate_key + 1)\\\n",
    "                .withColumn('update_date', current_timestamp())\\\n",
    "                .withColumn('create_date', current_timestamp())\n",
    "\n",
    "else:\n",
    "  max_surrogate_key = 1\n",
    "  df_new = df_new.withColumn(surrogate_key, monotonically_increasing_id() + max_surrogate_key)\\\n",
    "                .withColumn('create_date', current_timestamp())\\\n",
    "                .withColumn('update_date', current_timestamp())"
   ]
  },
  {
   "cell_type": "code",
   "execution_count": 0,
   "metadata": {
    "application/vnd.databricks.v1+cell": {
     "cellMetadata": {
      "byteLimit": 2048000,
      "rowLimit": 10000
     },
     "inputWidgets": {},
     "nuid": "c3e45060-e631-4933-890c-2c4abd7711f5",
     "showTitle": false,
     "tableResultSettingsMap": {},
     "title": ""
    }
   },
   "outputs": [],
   "source": [
    "df_new.display()"
   ]
  },
  {
   "cell_type": "code",
   "execution_count": 0,
   "metadata": {
    "application/vnd.databricks.v1+cell": {
     "cellMetadata": {
      "byteLimit": 2048000,
      "rowLimit": 10000
     },
     "inputWidgets": {},
     "nuid": "fa792028-262e-4fca-9fec-8d9492cc822d",
     "showTitle": false,
     "tableResultSettingsMap": {},
     "title": ""
    }
   },
   "outputs": [],
   "source": [
    "df_new.printSchema()"
   ]
  },
  {
   "cell_type": "code",
   "execution_count": 0,
   "metadata": {
    "application/vnd.databricks.v1+cell": {
     "cellMetadata": {
      "byteLimit": 2048000,
      "rowLimit": 10000
     },
     "inputWidgets": {},
     "nuid": "9761588c-5474-4785-b203-dc9fdea88b93",
     "showTitle": false,
     "tableResultSettingsMap": {},
     "title": ""
    }
   },
   "outputs": [],
   "source": [
    "df_old.printSchema() "
   ]
  },
  {
   "cell_type": "code",
   "execution_count": 0,
   "metadata": {
    "application/vnd.databricks.v1+cell": {
     "cellMetadata": {
      "byteLimit": 2048000,
      "rowLimit": 10000
     },
     "inputWidgets": {},
     "nuid": "24053253-11fb-464f-8a87-2f649eef8a39",
     "showTitle": false,
     "tableResultSettingsMap": {},
     "title": ""
    }
   },
   "outputs": [],
   "source": [
    "df_union = df_old.unionByName(df_new)\n",
    "df_union.display()"
   ]
  },
  {
   "cell_type": "markdown",
   "metadata": {
    "application/vnd.databricks.v1+cell": {
     "cellMetadata": {
      "byteLimit": 2048000,
      "rowLimit": 10000
     },
     "inputWidgets": {},
     "nuid": "f88784d2-fa07-4620-953f-351ef375d049",
     "showTitle": false,
     "tableResultSettingsMap": {},
     "title": ""
    }
   },
   "source": [
    "## **UPSERT Command**"
   ]
  },
  {
   "cell_type": "code",
   "execution_count": 0,
   "metadata": {
    "application/vnd.databricks.v1+cell": {
     "cellMetadata": {
      "byteLimit": 2048000,
      "rowLimit": 10000
     },
     "inputWidgets": {},
     "nuid": "ed5857d7-2acd-4161-b545-1f65ed529f96",
     "showTitle": false,
     "tableResultSettingsMap": {},
     "title": ""
    }
   },
   "outputs": [],
   "source": [
    "if spark.catalog.tableExists(f\"{catalog_name}.{target_schema}.{target_object}\"):\n",
    "    dlt_obj = DeltaTable.forName(spark, f\"{catalog_name}.{target_schema}.{target_object}\")\n",
    "\n",
    "    dlt_obj.alias(\"target\").merge(\n",
    "        df_union.alias(\"source\"),\n",
    "        f\"target.{surrogate_key} = source.{surrogate_key}\"\n",
    "    )\\\n",
    "    .whenMatchedUpdate(\n",
    "        condition=f\"source.{cdc_col} > target.{cdc_col}\",\n",
    "        set={\n",
    "            # Only update columns if change is detected\n",
    "            col: f\"source.{col}\" for col in df_union.columns if col not in [\"create_date\", \"update_date\"]\n",
    "        } | {\n",
    "            \"update_date\": \"current_timestamp()\"\n",
    "        }\n",
    "    )\\\n",
    "    .whenNotMatchedInsertAll()\\\n",
    "    .execute()\n",
    "else:\n",
    "    df_union.write.format(\"delta\")\\\n",
    "                  .mode(\"append\")\\\n",
    "                  .saveAsTable(f\"{catalog_name}.{target_schema}.{target_object}\")\n"
   ]
  },
  {
   "cell_type": "code",
   "execution_count": 0,
   "metadata": {
    "application/vnd.databricks.v1+cell": {
     "cellMetadata": {
      "byteLimit": 2048000,
      "rowLimit": 10000
     },
     "inputWidgets": {},
     "nuid": "1f06ad61-1a93-4e9f-b1b1-e19985f53595",
     "showTitle": false,
     "tableResultSettingsMap": {},
     "title": ""
    }
   },
   "outputs": [],
   "source": [
    "spark.sql(f\"SELECT * FROM {catalog_name}.{target_schema}.{target_object} ORDER BY {surrogate_key} DESC\").display()"
   ]
  },
  {
   "cell_type": "code",
   "execution_count": 0,
   "metadata": {
    "application/vnd.databricks.v1+cell": {
     "cellMetadata": {
      "byteLimit": 2048000,
      "rowLimit": 10000
     },
     "inputWidgets": {},
     "nuid": "1ce7af29-85ed-4eb8-9f25-d92729d4fb04",
     "showTitle": false,
     "tableResultSettingsMap": {},
     "title": ""
    }
   },
   "outputs": [],
   "source": [
    "spark.sql(f\"select * from {catalog_name}.{target_schema}.{target_object} WHERE flight_id = 'F0045'\").display()"
   ]
  },
  {
   "cell_type": "code",
   "execution_count": 0,
   "metadata": {
    "application/vnd.databricks.v1+cell": {
     "cellMetadata": {
      "byteLimit": 2048000,
      "rowLimit": 10000
     },
     "inputWidgets": {},
     "nuid": "25728819-bd6c-486b-9805-cddae8ae5a00",
     "showTitle": false,
     "tableResultSettingsMap": {},
     "title": ""
    }
   },
   "outputs": [],
   "source": [
    "spark.sql(f\"drop table if exists workspace_bryanq.silver.transform_business\")"
   ]
  }
 ],
 "metadata": {
  "application/vnd.databricks.v1+notebook": {
   "computePreferences": null,
   "dashboards": [],
   "environmentMetadata": {
    "base_environment": "",
    "environment_version": "2"
   },
   "inputWidgetPreferences": null,
   "language": "python",
   "notebookMetadata": {
    "mostRecentlyExecutedCommandWithImplicitDF": {
     "commandId": 5978896450141914,
     "dataframes": [
      "_sqldf"
     ]
    },
    "pythonIndentUnit": 2
   },
   "notebookName": "gold_layer",
   "widgets": {}
  },
  "language_info": {
   "name": "python"
  }
 },
 "nbformat": 4,
 "nbformat_minor": 0
}
