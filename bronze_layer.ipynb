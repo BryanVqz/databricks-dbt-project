{
 "cells": [
  {
   "cell_type": "code",
   "execution_count": 0,
   "metadata": {
    "application/vnd.databricks.v1+cell": {
     "cellMetadata": {
      "byteLimit": 2048000,
      "implicitDf": true,
      "rowLimit": 10000
     },
     "inputWidgets": {},
     "nuid": "c8068cc3-3af8-4af8-ae69-c77c86eeaa15",
     "showTitle": false,
     "tableResultSettingsMap": {},
     "title": ""
    }
   },
   "outputs": [],
   "source": [
    "%sql\n",
    "CREATE VOLUME IF NOT EXISTS workspace_bryanq.bronze.bronze_volume;\n",
    "CREATE VOLUME IF NOT EXISTS workspace_bryanq.silver.silver_volume;\n",
    "CREATE VOLUME IF NOT EXISTS workspace_bryanq.gold.gold_volume;"
   ]
  },
  {
   "cell_type": "code",
   "execution_count": 0,
   "metadata": {
    "application/vnd.databricks.v1+cell": {
     "cellMetadata": {
      "byteLimit": 2048000,
      "rowLimit": 10000
     },
     "inputWidgets": {},
     "nuid": "f178b896-5fa1-4422-84f2-ec549de57794",
     "showTitle": false,
     "tableResultSettingsMap": {},
     "title": ""
    }
   },
   "outputs": [],
   "source": [
    "dbutils.widgets.text(\"p_source\", \"\")\n",
    "p_source = dbutils.widgets.get(\"p_source\")\n",
    "display(p_source)"
   ]
  },
  {
   "cell_type": "markdown",
   "metadata": {
    "application/vnd.databricks.v1+cell": {
     "cellMetadata": {
      "byteLimit": 2048000,
      "rowLimit": 10000
     },
     "inputWidgets": {},
     "nuid": "f3f5b6f2-8e18-4f82-ab30-f4d9368b49f2",
     "showTitle": false,
     "tableResultSettingsMap": {},
     "title": ""
    }
   },
   "source": [
    "## **INCREMENTAL DATA INGESTION**"
   ]
  },
  {
   "cell_type": "code",
   "execution_count": 0,
   "metadata": {
    "application/vnd.databricks.v1+cell": {
     "cellMetadata": {
      "byteLimit": 2048000,
      "rowLimit": 10000
     },
     "inputWidgets": {},
     "nuid": "667fa6aa-c21a-4989-9574-391a46922cb8",
     "showTitle": false,
     "tableResultSettingsMap": {},
     "title": ""
    }
   },
   "outputs": [],
   "source": [
    "df = spark.readStream.format(\"cloudFiles\")\\\n",
    "                    .option(\"cloudFiles.format\", \"csv\")\\\n",
    "                    .option(\"cloudFiles.schemaLocation\", f\"/Volumes/workspace_bryanq/bronze/bronze_volume/{p_source}/checkpoint\")\\\n",
    "                    .option(\"cloudFiles.schemaEvolutionMode\", \"rescue\")\\\n",
    "                    .load(f\"/Volumes/workspace_bryanq/raw/raw_volume/raw_data/{p_source}/\")"
   ]
  },
  {
   "cell_type": "code",
   "execution_count": 0,
   "metadata": {
    "application/vnd.databricks.v1+cell": {
     "cellMetadata": {
      "byteLimit": 2048000,
      "rowLimit": 10000
     },
     "inputWidgets": {},
     "nuid": "a8d295f8-c57a-4673-bac1-a64adac20582",
     "showTitle": false,
     "tableResultSettingsMap": {},
     "title": ""
    }
   },
   "outputs": [],
   "source": [
    "df.writeStream.format(\"delta\")\\\n",
    "              .outputMode(\"append\")\\\n",
    "              .trigger(once = True)\\\n",
    "              .option(\"checkpointLocation\", f\"/Volumes/workspace_bryanq/bronze/bronze_volume/{p_source}/checkpoint\")\\\n",
    "              .option(\"path\", f\"/Volumes/workspace_bryanq/bronze/bronze_volume/{p_source}/data\")\\\n",
    "              .start()"
   ]
  },
  {
   "cell_type": "code",
   "execution_count": 0,
   "metadata": {
    "application/vnd.databricks.v1+cell": {
     "cellMetadata": {
      "byteLimit": 2048000,
      "implicitDf": true,
      "rowLimit": 10000
     },
     "inputWidgets": {},
     "nuid": "40f255f3-3e60-4d1f-a453-3b9c9c1ae24d",
     "showTitle": false,
     "tableResultSettingsMap": {},
     "title": ""
    }
   },
   "outputs": [],
   "source": [
    "query = f\"\"\"\n",
    "        SELECT * FROM delta.`/Volumes/workspace_bryanq/bronze/bronze_volume/{p_source}/data`\n",
    "        \"\"\"\n",
    "\n",
    "df = spark.sql(query)\n",
    "display(df)"
   ]
  }
 ],
 "metadata": {
  "application/vnd.databricks.v1+notebook": {
   "computePreferences": null,
   "dashboards": [],
   "environmentMetadata": {
    "base_environment": "",
    "environment_version": "2"
   },
   "inputWidgetPreferences": null,
   "language": "python",
   "notebookMetadata": {
    "mostRecentlyExecutedCommandWithImplicitDF": {
     "commandId": 7397337711035935,
     "dataframes": [
      "_sqldf"
     ]
    },
    "pythonIndentUnit": 2
   },
   "notebookName": "bronze_layer",
   "widgets": {
    "p_source": {
     "currentValue": "bookings",
     "nuid": "20414552-436b-4e5c-b06d-ca7d05718531",
     "typedWidgetInfo": {
      "autoCreated": false,
      "defaultValue": "",
      "label": null,
      "name": "p_source",
      "options": {
       "widgetDisplayType": "Text",
       "validationRegex": null
      },
      "parameterDataType": "String"
     },
     "widgetInfo": {
      "widgetType": "text",
      "defaultValue": "",
      "label": null,
      "name": "p_source",
      "options": {
       "widgetType": "text",
       "autoCreated": null,
       "validationRegex": null
      }
     }
    }
   }
  },
  "language_info": {
   "name": "python"
  }
 },
 "nbformat": 4,
 "nbformat_minor": 0
}
