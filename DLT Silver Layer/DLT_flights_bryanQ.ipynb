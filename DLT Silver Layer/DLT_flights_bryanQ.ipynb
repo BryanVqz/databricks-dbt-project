{
 "cells": [
  {
   "cell_type": "code",
   "execution_count": 0,
   "metadata": {
    "application/vnd.databricks.v1+cell": {
     "cellMetadata": {},
     "inputWidgets": {},
     "nuid": "bfdd9605-3336-4be4-ab3d-4496d6553cbc",
     "showTitle": false,
     "tableResultSettingsMap": {},
     "title": ""
    }
   },
   "outputs": [],
   "source": [
    "from pyspark.sql.functions import *\n",
    "from pyspark.sql.types import *\n",
    "import dlt"
   ]
  },
  {
   "cell_type": "markdown",
   "metadata": {
    "application/vnd.databricks.v1+cell": {
     "cellMetadata": {},
     "inputWidgets": {},
     "nuid": "7f1ba5be-9016-4f5d-937d-6f0e5f674a9b",
     "showTitle": false,
     "tableResultSettingsMap": {},
     "title": ""
    }
   },
   "source": [
    "## **Building Lakeflow pipeline**"
   ]
  },
  {
   "cell_type": "code",
   "execution_count": 0,
   "metadata": {
    "application/vnd.databricks.v1+cell": {
     "cellMetadata": {},
     "inputWidgets": {},
     "nuid": "af39057b-8ab2-4ad4-8adf-ce4a13069d7e",
     "showTitle": false,
     "tableResultSettingsMap": {},
     "title": ""
    }
   },
   "outputs": [],
   "source": [
    "@dlt.view\n",
    "def transform_flights():\n",
    "  df = spark.readStream.format(\"delta\")\\\n",
    "                  .load(\"/Volumes/workspace_bryanq/bronze/bronze_volume/flights/data/\")\\\n",
    "                  .withColumn(\"flight_date\", to_date(col(\"flight_date\")))\\\n",
    "                  .drop(\"_rescued_data\")\n",
    "  return df"
   ]
  },
  {
   "cell_type": "code",
   "execution_count": 0,
   "metadata": {
    "application/vnd.databricks.v1+cell": {
     "cellMetadata": {},
     "inputWidgets": {},
     "nuid": "3eb9c3b3-e881-400f-9f3e-e095b69452b5",
     "showTitle": false,
     "tableResultSettingsMap": {},
     "title": ""
    }
   },
   "outputs": [],
   "source": [
    "dlt.create_streaming_table(\"silver_flights\")\n",
    "\n",
    "dlt.create_auto_cdc_flow(\n",
    "  target = \"silver_flights\",\n",
    "  source = \"transform_flights\",\n",
    "  keys = [\"flight_id\"],\n",
    "  sequence_by = col(\"flight_id\"),\n",
    "  stored_as_scd_type = 1\n",
    ")"
   ]
  }
 ],
 "metadata": {
  "application/vnd.databricks.v1+notebook": {
   "computePreferences": null,
   "dashboards": [],
   "environmentMetadata": {
    "base_environment": "",
    "environment_version": "2"
   },
   "inputWidgetPreferences": null,
   "language": "python",
   "notebookMetadata": {
    "pythonIndentUnit": 2
   },
   "notebookName": "DLT_flights_bryanQ",
   "widgets": {}
  },
  "language_info": {
   "name": "python"
  }
 },
 "nbformat": 4,
 "nbformat_minor": 0
}
